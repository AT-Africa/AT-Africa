{
 "cells": [
  {
   "cell_type": "markdown",
   "id": "84082cbf",
   "metadata": {},
   "source": [
    "**PORTFOLIO B: THIS USES ONE YEAR WORTH OF DATA, FROM 2021-09 to 2022-08**<br>\n",
    "**Data is split into two, 70% training and 30% testing**"
   ]
  },
  {
   "cell_type": "code",
   "execution_count": 1,
   "id": "271231ce",
   "metadata": {},
   "outputs": [],
   "source": [
    "import pandas as pd\n",
    "import numpy as np\n",
    "import seaborn as sns\n",
    "import matplotlib.pyplot as plt\n",
    "#plt.style.use('fivethirtyeight')\n",
    "from pandas_datareader import data\n",
    "import datetime as dt\n",
    "import warnings\n",
    "warnings.filterwarnings('ignore')\n",
    "import plotly\n",
    "import plotly.graph_objects as go\n",
    "import statsmodels.api as sm\n",
    "import statsmodels.formula.api as smf\n"
   ]
  },
  {
   "cell_type": "code",
   "execution_count": 2,
   "id": "4466a6dc",
   "metadata": {},
   "outputs": [],
   "source": [
    "#importing stock data\n",
    "df=pd.read_csv(\"/Users/USER/Documents/DATASETS/NEW_Weekly_NSE_Stock_data_2012_2022.csv\",parse_dates=['datetime']).set_index('datetime')\n",
    "\n",
    "#import famafrench data\n",
    "famafrenchdata=pd.read_csv(\"/Users/USER/Documents/DATASETS/Weekly_Fama_french_factors.csv\",parse_dates=['datetime']).set_index('datetime')\n"
   ]
  },
  {
   "cell_type": "code",
   "execution_count": 4,
   "id": "e41911d9",
   "metadata": {},
   "outputs": [],
   "source": [
    "#selecting stocks in portfolio b\n",
    "df=df[['ASI','AIRTELAFRI','PRESCO','OKOMUOIL','UCAP','FIDELITYBK','LIVINGTRUST','MEYER']]"
   ]
  },
  {
   "cell_type": "code",
   "execution_count": 5,
   "id": "6649bf60",
   "metadata": {},
   "outputs": [],
   "source": [
    "df=df.iloc[506:553]#indexing out 2021-09 to 2022-08"
   ]
  },
  {
   "cell_type": "code",
   "execution_count": 6,
   "id": "1290df97",
   "metadata": {},
   "outputs": [
    {
     "data": {
      "text/plain": [
       "32.9"
      ]
     },
     "execution_count": 6,
     "metadata": {},
     "output_type": "execute_result"
    }
   ],
   "source": [
    "#splitting into train set and test set\n",
    "len(df)*0.7"
   ]
  },
  {
   "cell_type": "code",
   "execution_count": 7,
   "id": "166bdebd",
   "metadata": {},
   "outputs": [],
   "source": [
    "train=df.iloc[:33]"
   ]
  },
  {
   "cell_type": "code",
   "execution_count": 8,
   "id": "ffbb588f",
   "metadata": {},
   "outputs": [],
   "source": [
    "test=df.iloc[33:]"
   ]
  },
  {
   "cell_type": "code",
   "execution_count": 9,
   "id": "10b3fa7b",
   "metadata": {},
   "outputs": [
    {
     "data": {
      "text/plain": [
       "32.199999999999996"
      ]
     },
     "execution_count": 9,
     "metadata": {},
     "output_type": "execute_result"
    }
   ],
   "source": [
    "#splitting famafrenchdata into train and test\n",
    "len(famafrenchdata)*0.7"
   ]
  },
  {
   "cell_type": "code",
   "execution_count": 10,
   "id": "08a435ee",
   "metadata": {},
   "outputs": [],
   "source": [
    "famafrenchdata_train_=famafrenchdata.iloc[:33]\n",
    "\n",
    "famafrenchdata_test=famafrenchdata.iloc[33:]\n"
   ]
  },
  {
   "cell_type": "markdown",
   "id": "1f7b3598",
   "metadata": {},
   "source": [
    "## TRAINING PERIOD"
   ]
  },
  {
   "cell_type": "code",
   "execution_count": 11,
   "id": "560cad8b",
   "metadata": {},
   "outputs": [],
   "source": [
    "#daily discrete stock returns\n",
    "returns_train=train.pct_change().dropna(how='all')"
   ]
  },
  {
   "cell_type": "code",
   "execution_count": 12,
   "id": "08ead092",
   "metadata": {},
   "outputs": [],
   "source": [
    "data_train=famafrenchdata_train_.merge(returns_train,on='datetime')"
   ]
  },
  {
   "cell_type": "code",
   "execution_count": 13,
   "id": "c64ff478",
   "metadata": {},
   "outputs": [],
   "source": [
    "#get the excess return \n",
    "data_train['ASI_Excess']=data_train['ASI']-data_train['Rf']\n",
    "data_train['FIDELITYBK_Excess']=data_train['FIDELITYBK']-data_train['Rf']\n",
    "data_train['PRESCO_Excess']=data_train['PRESCO']-data_train['Rf']\n",
    "data_train['OKOMUOIL_Excess']=data_train['OKOMUOIL']-data_train['Rf']\n",
    "data_train['UCAP_Excess']=data_train['UCAP']-data_train['Rf']\n",
    "data_train['LIVINGTRUST_Excess']=data_train['LIVINGTRUST']-data_train['Rf']\n",
    "data_train['MEYER_Excess']=data_train['MEYER']-data_train['Rf']\n",
    "data_train['AIRTELAFRI_Excess']=data_train['AIRTELAFRI']-data_train['Rf']"
   ]
  },
  {
   "cell_type": "code",
   "execution_count": 14,
   "id": "3a1f64dd",
   "metadata": {},
   "outputs": [
    {
     "name": "stdout",
     "output_type": "stream",
     "text": [
      "rsquared_adj_fidelity 0.9814247871896844\n",
      "SMB_pvalue fidelity: 0.4476532572426174\n",
      "HML_pvalue _fidelity: 0.8522697472761607\n",
      "SMB_beta _fidelity: 0.32234573796088206\n",
      "HML_beta_fidelity: -0.07892228577284044\n",
      "alpha_fidelity : -0.0646546714725118\n",
      "annualized_alpha_fidelity: -0.5516018845786811\n"
     ]
    }
   ],
   "source": [
    "#define regression formula\n",
    "famafrench_model=smf.ols(formula='FIDELITYBK_Excess ~ ASI_Excess + HML + SMB',data=data_train)\n",
    "\n",
    "#fit regression\n",
    "fit= famafrench_model.fit()\n",
    "\n",
    "#extracted adjusted rsquared\n",
    "rsquared_adj_fidelity=fit.rsquared_adj\n",
    "print('rsquared_adj_fidelity',rsquared_adj_fidelity)\n",
    "\n",
    "#extract pvalue\n",
    "SMB_pvalue_fidelity=fit.pvalues['SMB']\n",
    "HML_pvalue_fidelity=fit.pvalues['HML']\n",
    "print('SMB_pvalue fidelity:',SMB_pvalue_fidelity)\n",
    "print('HML_pvalue _fidelity:',HML_pvalue_fidelity)\n",
    "\n",
    "#extract market beta\n",
    "beta_market_fidelitybk=fit.params['ASI_Excess']\n",
    "\n",
    "#extract coefficient/beta\n",
    "SMB_beta_fidelity = fit.params['SMB']\n",
    "HML_beta_fidelity = fit.params['HML']\n",
    "print('SMB_beta _fidelity:',SMB_beta_fidelity)\n",
    "print('HML_beta_fidelity:',HML_beta_fidelity)\n",
    "\n",
    "#extract alpha\n",
    "alpha_fidelity=fit.params['Intercept']\n",
    "annualized_alpha_fidelity=((1+alpha_fidelity)**12)-1\n",
    "print('alpha_fidelity :',alpha_fidelity)\n",
    "print('annualized_alpha_fidelity:',annualized_alpha_fidelity)\n"
   ]
  },
  {
   "cell_type": "code",
   "execution_count": 15,
   "id": "c7432261",
   "metadata": {},
   "outputs": [
    {
     "data": {
      "text/html": [
       "<table class=\"simpletable\">\n",
       "<caption>OLS Regression Results</caption>\n",
       "<tr>\n",
       "  <th>Dep. Variable:</th>    <td>FIDELITYBK_Excess</td> <th>  R-squared:         </th> <td>   0.983</td>\n",
       "</tr>\n",
       "<tr>\n",
       "  <th>Model:</th>                   <td>OLS</td>        <th>  Adj. R-squared:    </th> <td>   0.981</td>\n",
       "</tr>\n",
       "<tr>\n",
       "  <th>Method:</th>             <td>Least Squares</td>   <th>  F-statistic:       </th> <td>   547.0</td>\n",
       "</tr>\n",
       "<tr>\n",
       "  <th>Date:</th>             <td>Thu, 17 Nov 2022</td>  <th>  Prob (F-statistic):</th> <td>6.02e-25</td>\n",
       "</tr>\n",
       "<tr>\n",
       "  <th>Time:</th>                 <td>11:08:22</td>      <th>  Log-Likelihood:    </th> <td>  57.585</td>\n",
       "</tr>\n",
       "<tr>\n",
       "  <th>No. Observations:</th>      <td>    32</td>       <th>  AIC:               </th> <td>  -107.2</td>\n",
       "</tr>\n",
       "<tr>\n",
       "  <th>Df Residuals:</th>          <td>    28</td>       <th>  BIC:               </th> <td>  -101.3</td>\n",
       "</tr>\n",
       "<tr>\n",
       "  <th>Df Model:</th>              <td>     3</td>       <th>                     </th>     <td> </td>   \n",
       "</tr>\n",
       "<tr>\n",
       "  <th>Covariance Type:</th>      <td>nonrobust</td>     <th>                     </th>     <td> </td>   \n",
       "</tr>\n",
       "</table>\n",
       "<table class=\"simpletable\">\n",
       "<tr>\n",
       "       <td></td>         <th>coef</th>     <th>std err</th>      <th>t</th>      <th>P>|t|</th>  <th>[0.025</th>    <th>0.975]</th>  \n",
       "</tr>\n",
       "<tr>\n",
       "  <th>Intercept</th>  <td>   -0.0647</td> <td>    0.056</td> <td>   -1.145</td> <td> 0.262</td> <td>   -0.180</td> <td>    0.051</td>\n",
       "</tr>\n",
       "<tr>\n",
       "  <th>ASI_Excess</th> <td>    0.9723</td> <td>    0.024</td> <td>   40.385</td> <td> 0.000</td> <td>    0.923</td> <td>    1.022</td>\n",
       "</tr>\n",
       "<tr>\n",
       "  <th>HML</th>        <td>   -0.0789</td> <td>    0.420</td> <td>   -0.188</td> <td> 0.852</td> <td>   -0.939</td> <td>    0.781</td>\n",
       "</tr>\n",
       "<tr>\n",
       "  <th>SMB</th>        <td>    0.3223</td> <td>    0.419</td> <td>    0.770</td> <td> 0.448</td> <td>   -0.535</td> <td>    1.180</td>\n",
       "</tr>\n",
       "</table>\n",
       "<table class=\"simpletable\">\n",
       "<tr>\n",
       "  <th>Omnibus:</th>       <td> 1.597</td> <th>  Durbin-Watson:     </th> <td>   1.149</td>\n",
       "</tr>\n",
       "<tr>\n",
       "  <th>Prob(Omnibus):</th> <td> 0.450</td> <th>  Jarque-Bera (JB):  </th> <td>   1.258</td>\n",
       "</tr>\n",
       "<tr>\n",
       "  <th>Skew:</th>          <td> 0.280</td> <th>  Prob(JB):          </th> <td>   0.533</td>\n",
       "</tr>\n",
       "<tr>\n",
       "  <th>Kurtosis:</th>      <td> 2.207</td> <th>  Cond. No.          </th> <td>    159.</td>\n",
       "</tr>\n",
       "</table><br/><br/>Notes:<br/>[1] Standard Errors assume that the covariance matrix of the errors is correctly specified."
      ],
      "text/plain": [
       "<class 'statsmodels.iolib.summary.Summary'>\n",
       "\"\"\"\n",
       "                            OLS Regression Results                            \n",
       "==============================================================================\n",
       "Dep. Variable:      FIDELITYBK_Excess   R-squared:                       0.983\n",
       "Model:                            OLS   Adj. R-squared:                  0.981\n",
       "Method:                 Least Squares   F-statistic:                     547.0\n",
       "Date:                Thu, 17 Nov 2022   Prob (F-statistic):           6.02e-25\n",
       "Time:                        11:08:22   Log-Likelihood:                 57.585\n",
       "No. Observations:                  32   AIC:                            -107.2\n",
       "Df Residuals:                      28   BIC:                            -101.3\n",
       "Df Model:                           3                                         \n",
       "Covariance Type:            nonrobust                                         \n",
       "==============================================================================\n",
       "                 coef    std err          t      P>|t|      [0.025      0.975]\n",
       "------------------------------------------------------------------------------\n",
       "Intercept     -0.0647      0.056     -1.145      0.262      -0.180       0.051\n",
       "ASI_Excess     0.9723      0.024     40.385      0.000       0.923       1.022\n",
       "HML           -0.0789      0.420     -0.188      0.852      -0.939       0.781\n",
       "SMB            0.3223      0.419      0.770      0.448      -0.535       1.180\n",
       "==============================================================================\n",
       "Omnibus:                        1.597   Durbin-Watson:                   1.149\n",
       "Prob(Omnibus):                  0.450   Jarque-Bera (JB):                1.258\n",
       "Skew:                           0.280   Prob(JB):                        0.533\n",
       "Kurtosis:                       2.207   Cond. No.                         159.\n",
       "==============================================================================\n",
       "\n",
       "Notes:\n",
       "[1] Standard Errors assume that the covariance matrix of the errors is correctly specified.\n",
       "\"\"\""
      ]
     },
     "execution_count": 15,
     "metadata": {},
     "output_type": "execute_result"
    }
   ],
   "source": [
    "fit.summary()"
   ]
  },
  {
   "cell_type": "code",
   "execution_count": 16,
   "id": "060ccb97",
   "metadata": {},
   "outputs": [
    {
     "name": "stdout",
     "output_type": "stream",
     "text": [
      "rsquared_adj_presco 0.9798713227240698\n",
      "SMB_pvalue presco: 0.004741977264218254\n",
      "HML_pvalue _presco: 0.1102789623172987\n",
      "SMB_beta _presco: -1.439758285567918\n",
      "HML_beta_presco: -0.7764214319743736\n",
      "alpha_presco : 0.1115535911912422\n",
      "annualized_alpha_presco: 2.5576635438032342\n"
     ]
    }
   ],
   "source": [
    "#define regression formula\n",
    "famafrench_model=smf.ols(formula='PRESCO_Excess ~ ASI_Excess + HML + SMB',data=data_train)\n",
    "\n",
    "#fit regression\n",
    "fit= famafrench_model.fit()\n",
    "\n",
    "#extracted adjusted rsquared\n",
    "rsquared_adj_presco=fit.rsquared_adj\n",
    "print('rsquared_adj_presco',rsquared_adj_presco)\n",
    "\n",
    "#extract pvalue\n",
    "SMB_pvalue_presco=fit.pvalues['SMB']\n",
    "HML_pvalue_presco=fit.pvalues['HML']\n",
    "print('SMB_pvalue presco:',SMB_pvalue_presco)\n",
    "print('HML_pvalue _presco:',HML_pvalue_presco)\n",
    "\n",
    "#extract market beta\n",
    "beta_market_presco=fit.params['ASI_Excess']\n",
    "\n",
    "\n",
    "#extract coefficient/beta\n",
    "SMB_beta_presco = fit.params['SMB']\n",
    "HML_beta_presco = fit.params['HML']\n",
    "print('SMB_beta _presco:',SMB_beta_presco)\n",
    "print('HML_beta_presco:',HML_beta_presco)\n",
    "\n",
    "#extract alpha\n",
    "alpha_presco=fit.params['Intercept']\n",
    "annualized_alpha_presco=((1+alpha_presco)**12)-1\n",
    "print('alpha_presco :',alpha_presco)\n",
    "print('annualized_alpha_presco:',annualized_alpha_presco)\n"
   ]
  },
  {
   "cell_type": "code",
   "execution_count": 17,
   "id": "a9f14e37",
   "metadata": {},
   "outputs": [
    {
     "data": {
      "text/html": [
       "<table class=\"simpletable\">\n",
       "<caption>OLS Regression Results</caption>\n",
       "<tr>\n",
       "  <th>Dep. Variable:</th>      <td>PRESCO_Excess</td>  <th>  R-squared:         </th> <td>   0.982</td>\n",
       "</tr>\n",
       "<tr>\n",
       "  <th>Model:</th>                   <td>OLS</td>       <th>  Adj. R-squared:    </th> <td>   0.980</td>\n",
       "</tr>\n",
       "<tr>\n",
       "  <th>Method:</th>             <td>Least Squares</td>  <th>  F-statistic:       </th> <td>   504.0</td>\n",
       "</tr>\n",
       "<tr>\n",
       "  <th>Date:</th>             <td>Thu, 17 Nov 2022</td> <th>  Prob (F-statistic):</th> <td>1.85e-24</td>\n",
       "</tr>\n",
       "<tr>\n",
       "  <th>Time:</th>                 <td>11:08:22</td>     <th>  Log-Likelihood:    </th> <td>  53.925</td>\n",
       "</tr>\n",
       "<tr>\n",
       "  <th>No. Observations:</th>      <td>    32</td>      <th>  AIC:               </th> <td>  -99.85</td>\n",
       "</tr>\n",
       "<tr>\n",
       "  <th>Df Residuals:</th>          <td>    28</td>      <th>  BIC:               </th> <td>  -93.99</td>\n",
       "</tr>\n",
       "<tr>\n",
       "  <th>Df Model:</th>              <td>     3</td>      <th>                     </th>     <td> </td>   \n",
       "</tr>\n",
       "<tr>\n",
       "  <th>Covariance Type:</th>      <td>nonrobust</td>    <th>                     </th>     <td> </td>   \n",
       "</tr>\n",
       "</table>\n",
       "<table class=\"simpletable\">\n",
       "<tr>\n",
       "       <td></td>         <th>coef</th>     <th>std err</th>      <th>t</th>      <th>P>|t|</th>  <th>[0.025</th>    <th>0.975]</th>  \n",
       "</tr>\n",
       "<tr>\n",
       "  <th>Intercept</th>  <td>    0.1116</td> <td>    0.063</td> <td>    1.763</td> <td> 0.089</td> <td>   -0.018</td> <td>    0.241</td>\n",
       "</tr>\n",
       "<tr>\n",
       "  <th>ASI_Excess</th> <td>    1.0370</td> <td>    0.027</td> <td>   38.418</td> <td> 0.000</td> <td>    0.982</td> <td>    1.092</td>\n",
       "</tr>\n",
       "<tr>\n",
       "  <th>HML</th>        <td>   -0.7764</td> <td>    0.471</td> <td>   -1.649</td> <td> 0.110</td> <td>   -1.741</td> <td>    0.188</td>\n",
       "</tr>\n",
       "<tr>\n",
       "  <th>SMB</th>        <td>   -1.4398</td> <td>    0.469</td> <td>   -3.068</td> <td> 0.005</td> <td>   -2.401</td> <td>   -0.479</td>\n",
       "</tr>\n",
       "</table>\n",
       "<table class=\"simpletable\">\n",
       "<tr>\n",
       "  <th>Omnibus:</th>       <td>13.091</td> <th>  Durbin-Watson:     </th> <td>   1.384</td>\n",
       "</tr>\n",
       "<tr>\n",
       "  <th>Prob(Omnibus):</th> <td> 0.001</td> <th>  Jarque-Bera (JB):  </th> <td>  13.051</td>\n",
       "</tr>\n",
       "<tr>\n",
       "  <th>Skew:</th>          <td> 1.278</td> <th>  Prob(JB):          </th> <td> 0.00147</td>\n",
       "</tr>\n",
       "<tr>\n",
       "  <th>Kurtosis:</th>      <td> 4.804</td> <th>  Cond. No.          </th> <td>    159.</td>\n",
       "</tr>\n",
       "</table><br/><br/>Notes:<br/>[1] Standard Errors assume that the covariance matrix of the errors is correctly specified."
      ],
      "text/plain": [
       "<class 'statsmodels.iolib.summary.Summary'>\n",
       "\"\"\"\n",
       "                            OLS Regression Results                            \n",
       "==============================================================================\n",
       "Dep. Variable:          PRESCO_Excess   R-squared:                       0.982\n",
       "Model:                            OLS   Adj. R-squared:                  0.980\n",
       "Method:                 Least Squares   F-statistic:                     504.0\n",
       "Date:                Thu, 17 Nov 2022   Prob (F-statistic):           1.85e-24\n",
       "Time:                        11:08:22   Log-Likelihood:                 53.925\n",
       "No. Observations:                  32   AIC:                            -99.85\n",
       "Df Residuals:                      28   BIC:                            -93.99\n",
       "Df Model:                           3                                         \n",
       "Covariance Type:            nonrobust                                         \n",
       "==============================================================================\n",
       "                 coef    std err          t      P>|t|      [0.025      0.975]\n",
       "------------------------------------------------------------------------------\n",
       "Intercept      0.1116      0.063      1.763      0.089      -0.018       0.241\n",
       "ASI_Excess     1.0370      0.027     38.418      0.000       0.982       1.092\n",
       "HML           -0.7764      0.471     -1.649      0.110      -1.741       0.188\n",
       "SMB           -1.4398      0.469     -3.068      0.005      -2.401      -0.479\n",
       "==============================================================================\n",
       "Omnibus:                       13.091   Durbin-Watson:                   1.384\n",
       "Prob(Omnibus):                  0.001   Jarque-Bera (JB):               13.051\n",
       "Skew:                           1.278   Prob(JB):                      0.00147\n",
       "Kurtosis:                       4.804   Cond. No.                         159.\n",
       "==============================================================================\n",
       "\n",
       "Notes:\n",
       "[1] Standard Errors assume that the covariance matrix of the errors is correctly specified.\n",
       "\"\"\""
      ]
     },
     "execution_count": 17,
     "metadata": {},
     "output_type": "execute_result"
    }
   ],
   "source": [
    "fit.summary()"
   ]
  },
  {
   "cell_type": "code",
   "execution_count": 18,
   "id": "f99deb08",
   "metadata": {},
   "outputs": [
    {
     "name": "stdout",
     "output_type": "stream",
     "text": [
      "rsquared_adj_okomuoil 0.9749371310542114\n",
      "SMB_pvalue okomuoil: 0.8893924228472716\n",
      "HML_pvalue _okomuoil: 0.16472624536561545\n",
      "SMB_beta _okomuoil: -0.07463384970880238\n",
      "HML_beta_okomuoil: -0.7611704905097767\n",
      "alpha_okomuoil : 0.14215357924889693\n",
      "annualized_alpha_okomuoil: 3.928265096710512\n"
     ]
    }
   ],
   "source": [
    "#define regression formula\n",
    "famafrench_model=smf.ols(formula='OKOMUOIL_Excess ~ ASI_Excess + HML + SMB',data=data_train)\n",
    "\n",
    "#fit regression\n",
    "fit= famafrench_model.fit()\n",
    "\n",
    "#extracted adjusted rsquared\n",
    "rsquared_adj_okomuoil=fit.rsquared_adj\n",
    "print('rsquared_adj_okomuoil',rsquared_adj_okomuoil)\n",
    "\n",
    "#extract pvalue\n",
    "SMB_pvalue_okomuoil=fit.pvalues['SMB']\n",
    "HML_pvalue_okomuoil=fit.pvalues['HML']\n",
    "print('SMB_pvalue okomuoil:',SMB_pvalue_okomuoil)\n",
    "print('HML_pvalue _okomuoil:',HML_pvalue_okomuoil)\n",
    "\n",
    "#extract market beta\n",
    "beta_market_okomuoil=fit.params['ASI_Excess']\n",
    "\n",
    "#extract market beta\n",
    "beta_market_okomuoil=fit.params['ASI_Excess']\n",
    "\n",
    "#extract coefficient/beta\n",
    "SMB_beta_okomuoil = fit.params['SMB']\n",
    "HML_beta_okomuoil = fit.params['HML']\n",
    "print('SMB_beta _okomuoil:',SMB_beta_okomuoil)\n",
    "print('HML_beta_okomuoil:',HML_beta_okomuoil)\n",
    "\n",
    "#extract alpha\n",
    "alpha_okomuoil=fit.params['Intercept']\n",
    "annualized_alpha_okomuoil=((1+alpha_okomuoil)**12)-1\n",
    "print('alpha_okomuoil :',alpha_okomuoil)\n",
    "print('annualized_alpha_okomuoil:',annualized_alpha_okomuoil)\n",
    "\n"
   ]
  },
  {
   "cell_type": "code",
   "execution_count": 19,
   "id": "2f9819cf",
   "metadata": {},
   "outputs": [
    {
     "name": "stdout",
     "output_type": "stream",
     "text": [
      "rsquared_adj_ucap 0.9784644820956518\n",
      "SMB_pvalue ucap: 0.9470349675707539\n",
      "HML_pvalue _ucap: 0.035824773154926624\n",
      "SMB_beta _ucap: 0.03074144796626843\n",
      "HML_beta_ucap: 1.0146373045108525\n",
      "alpha_ucap : -0.015083205058862514\n",
      "annualized_alpha_ucap: -0.166713169897435\n"
     ]
    }
   ],
   "source": [
    "#define regression formula\n",
    "famafrench_model=smf.ols(formula='UCAP_Excess ~ ASI_Excess + HML + SMB',data=data_train)\n",
    "\n",
    "#fit regression\n",
    "fit= famafrench_model.fit()\n",
    "\n",
    "#extracted adjusted rsquared\n",
    "rsquared_adj_ucap=fit.rsquared_adj\n",
    "print('rsquared_adj_ucap',rsquared_adj_ucap)\n",
    "\n",
    "#extract pvalue\n",
    "SMB_pvalue_ucap=fit.pvalues['SMB']\n",
    "HML_pvalue_ucap=fit.pvalues['HML']\n",
    "print('SMB_pvalue ucap:',SMB_pvalue_ucap)\n",
    "print('HML_pvalue _ucap:',HML_pvalue_ucap)\n",
    "\n",
    "#extract market beta\n",
    "beta_market_ucap=fit.params['ASI_Excess']\n",
    "\n",
    "#extract coefficient/beta\n",
    "SMB_beta_ucap = fit.params['SMB']\n",
    "HML_beta_ucap = fit.params['HML']\n",
    "print('SMB_beta _ucap:',SMB_beta_ucap)\n",
    "print('HML_beta_ucap:',HML_beta_ucap)\n",
    "\n",
    "#extract alpha\n",
    "alpha_ucap=fit.params['Intercept']\n",
    "annualized_alpha_ucap=((1+alpha_ucap)**12)-1\n",
    "print('alpha_ucap :',alpha_ucap)\n",
    "print('annualized_alpha_ucap:',annualized_alpha_ucap)"
   ]
  },
  {
   "cell_type": "code",
   "execution_count": 20,
   "id": "ebf3ceeb",
   "metadata": {},
   "outputs": [
    {
     "name": "stdout",
     "output_type": "stream",
     "text": [
      "rsquared_adj_livingtrust 0.9781269165363896\n",
      "SMB_pvalue livingtrust: 0.9604827564669812\n",
      "HML_pvalue _livingtrust: 0.41716390136241766\n",
      "SMB_beta _livingtrust: -0.021867292884617306\n",
      "HML_beta_livingtrust: -0.36139228018583225\n",
      "alpha_livingtrust : -0.14650327995935086\n",
      "annualized_alpha_livingtrust: -0.8505753395245853\n"
     ]
    }
   ],
   "source": [
    "#define regression formula\n",
    "famafrench_model=smf.ols(formula='LIVINGTRUST_Excess ~ ASI_Excess + HML + SMB',data=data_train)\n",
    "\n",
    "#fit regression\n",
    "fit= famafrench_model.fit()\n",
    "\n",
    "#extracted adjusted rsquared\n",
    "rsquared_adj_livingtrust=fit.rsquared_adj\n",
    "print('rsquared_adj_livingtrust',rsquared_adj_livingtrust)\n",
    "\n",
    "#extract pvalue\n",
    "SMB_pvalue_livingtrust=fit.pvalues['SMB']\n",
    "HML_pvalue_livingtrust=fit.pvalues['HML']\n",
    "print('SMB_pvalue livingtrust:',SMB_pvalue_livingtrust)\n",
    "print('HML_pvalue _livingtrust:',HML_pvalue_livingtrust)\n",
    "\n",
    "#extract market beta\n",
    "beta_market_livingtrust=fit.params['ASI_Excess']\n",
    "\n",
    "#extract coefficient/beta\n",
    "SMB_beta_livingtrust = fit.params['SMB']\n",
    "HML_beta_livingtrust = fit.params['HML']\n",
    "print('SMB_beta _livingtrust:',SMB_beta_livingtrust)\n",
    "print('HML_beta_livingtrust:',HML_beta_livingtrust)\n",
    "\n",
    "#extract alpha\n",
    "alpha_livingtrust=fit.params['Intercept']\n",
    "annualized_alpha_livingtrust=((1+alpha_livingtrust)**12)-1\n",
    "print('alpha_livingtrust :',alpha_livingtrust)\n",
    "print('annualized_alpha_livingtrust:',annualized_alpha_livingtrust)"
   ]
  },
  {
   "cell_type": "code",
   "execution_count": 21,
   "id": "90aab2c2",
   "metadata": {},
   "outputs": [
    {
     "name": "stdout",
     "output_type": "stream",
     "text": [
      "rsquared_adj_meyer 0.8464203354521672\n",
      "SMB_pvalue meyer: 0.4631177460880329\n",
      "HML_pvalue _meyer: 0.5795108701944159\n",
      "SMB_beta _meyer: 1.2090157553123353\n",
      "HML_beta_meyer: 0.91408777603991\n",
      "alpha_meyer : 0.6281213690111374\n",
      "annualized_alpha_meyer: 345.9295694616175\n"
     ]
    }
   ],
   "source": [
    "#define regression formula\n",
    "famafrench_model=smf.ols(formula='MEYER_Excess ~ ASI_Excess + HML + SMB',data=data_train)\n",
    "\n",
    "#fit regression\n",
    "fit= famafrench_model.fit()\n",
    "\n",
    "#extracted adjusted rsquared\n",
    "rsquared_adj_meyer=fit.rsquared_adj\n",
    "print('rsquared_adj_meyer',rsquared_adj_meyer)\n",
    "\n",
    "#extract pvalue\n",
    "SMB_pvalue_meyer=fit.pvalues['SMB']\n",
    "HML_pvalue_meyer=fit.pvalues['HML']\n",
    "print('SMB_pvalue meyer:',SMB_pvalue_meyer)\n",
    "print('HML_pvalue _meyer:',HML_pvalue_meyer)\n",
    "\n",
    "#extract market beta\n",
    "beta_market_meyer=fit.params['ASI_Excess']\n",
    "\n",
    "#extract coefficient/beta\n",
    "SMB_beta_meyer = fit.params['SMB']\n",
    "HML_beta_meyer = fit.params['HML']\n",
    "print('SMB_beta _meyer:',SMB_beta_meyer)\n",
    "print('HML_beta_meyer:',HML_beta_meyer)\n",
    "\n",
    "#extract alpha\n",
    "alpha_meyer=fit.params['Intercept']\n",
    "annualized_alpha_meyer=((1+alpha_meyer)**12)-1\n",
    "print('alpha_meyer :',alpha_meyer)\n",
    "print('annualized_alpha_meyer:',annualized_alpha_meyer)\n"
   ]
  },
  {
   "cell_type": "code",
   "execution_count": 22,
   "id": "3c5d59bc",
   "metadata": {},
   "outputs": [
    {
     "name": "stdout",
     "output_type": "stream",
     "text": [
      "rsquared_adj_airtelafri 0.9896536920142761\n",
      "SMB_pvalue airtelafri: 0.06884042315142475\n",
      "HML_pvalue _airtelafri: 0.9848896705042055\n",
      "SMB_beta _airtelafri: 0.597555124626397\n",
      "HML_beta_airtelafri: -0.006054123715795612\n",
      "alpha_airtelafri : -0.019975124132978195\n",
      "annualized_alpha_airtelafri: -0.21504421625277947\n"
     ]
    }
   ],
   "source": [
    "#define regression formula\n",
    "famafrench_model=smf.ols(formula='AIRTELAFRI_Excess ~ ASI_Excess + HML + SMB',data=data_train)\n",
    "\n",
    "#fit regression\n",
    "fit= famafrench_model.fit()\n",
    "\n",
    "#extracted adjusted rsquared\n",
    "rsquared_adj_airtelafri=fit.rsquared_adj\n",
    "print('rsquared_adj_airtelafri',rsquared_adj_airtelafri)\n",
    "\n",
    "#extract pvalue\n",
    "SMB_pvalue_airtelafri=fit.pvalues['SMB']\n",
    "HML_pvalue_airtelafri=fit.pvalues['HML']\n",
    "print('SMB_pvalue airtelafri:',SMB_pvalue_airtelafri)\n",
    "print('HML_pvalue _airtelafri:',HML_pvalue_airtelafri)\n",
    "\n",
    "#extract market beta\n",
    "beta_market_airtelafri=fit.params['ASI_Excess']\n",
    "\n",
    "#extract coefficient/beta\n",
    "SMB_beta_airtelafri = fit.params['SMB']\n",
    "HML_beta_airtelafri = fit.params['HML']\n",
    "print('SMB_beta _airtelafri:',SMB_beta_airtelafri)\n",
    "print('HML_beta_airtelafri:',HML_beta_airtelafri)\n",
    "\n",
    "#extract alpha\n",
    "alpha_airtelafri=fit.params['Intercept']\n",
    "annualized_alpha_airtelafri=((1+alpha_airtelafri)**12)-1\n",
    "print('alpha_airtelafri :',alpha_airtelafri)\n",
    "print('annualized_alpha_airtelafri:',annualized_alpha_airtelafri)\n"
   ]
  },
  {
   "cell_type": "code",
   "execution_count": 23,
   "id": "6c6232cf",
   "metadata": {},
   "outputs": [
    {
     "name": "stdout",
     "output_type": "stream",
     "text": [
      "-2.304402510245077 0.005648592425528068 -0.0026660474896228665\n"
     ]
    }
   ],
   "source": [
    "#next, take the average of this values to confirm if they are premiums\n",
    "market_premium=famafrenchdata_train_['Mkt-Rf'].mean()\n",
    "size_premium=famafrenchdata_train_['SMB'].mean()\n",
    "value_premium=famafrenchdata_train_['HML'].mean()\n",
    "print(market_premium,size_premium,value_premium)\n",
    "\n",
    "risk_free_rate=data_train['Rf'].mean()"
   ]
  },
  {
   "cell_type": "code",
   "execution_count": 24,
   "id": "78b782da",
   "metadata": {},
   "outputs": [],
   "source": [
    "#EXPECTED RETURNS\n",
    "airtelafri_return=risk_free_rate + (beta_market_airtelafri*market_premium) + (SMB_beta_airtelafri*size_premium) + (HML_beta_airtelafri*value_premium) + alpha_airtelafri\n",
    "\n",
    "presco_return=risk_free_rate + (beta_market_presco*market_premium) + (SMB_beta_presco*size_premium) + (HML_beta_presco*value_premium) + alpha_presco\n",
    "\n",
    "okomuoil_return=risk_free_rate + (beta_market_okomuoil*market_premium) + (SMB_beta_okomuoil*size_premium) + (HML_beta_okomuoil*value_premium) + alpha_okomuoil\n",
    "\n",
    "ucap_return=risk_free_rate + (beta_market_ucap*market_premium) + (SMB_beta_ucap*size_premium) + (HML_beta_ucap*value_premium) + alpha_ucap\n",
    "\n",
    "fidelitybk_return=risk_free_rate + (beta_market_fidelitybk*market_premium) + (SMB_beta_fidelity*size_premium) + (HML_beta_fidelity*value_premium) + alpha_fidelity\n",
    "\n",
    "livingtrust_return=risk_free_rate + (beta_market_livingtrust*market_premium) + (SMB_beta_livingtrust*size_premium) + (HML_beta_livingtrust*value_premium) + alpha_livingtrust\n",
    "\n",
    "meyer_return=risk_free_rate + (beta_market_meyer*market_premium) + (SMB_beta_meyer*size_premium) + (HML_beta_meyer*value_premium) + alpha_meyer\n",
    "\n",
    "                "
   ]
  },
  {
   "cell_type": "code",
   "execution_count": 25,
   "id": "e7010d9a",
   "metadata": {},
   "outputs": [],
   "source": [
    "train_returns=pd.DataFrame({'TrainingPeriod_Returns':[airtelafri_return,presco_return,okomuoil_return,ucap_return,\n",
    "                                                    fidelitybk_return,livingtrust_return,meyer_return],\n",
    "                           'HML_beta':[HML_beta_airtelafri,HML_beta_presco,HML_beta_okomuoil,HML_beta_ucap,HML_beta_fidelity,\n",
    "                                       HML_beta_livingtrust,HML_beta_meyer],\n",
    "                           'SMB_beta':[SMB_beta_airtelafri,SMB_beta_presco,SMB_beta_okomuoil,SMB_beta_ucap,SMB_beta_fidelity,\n",
    "                                       SMB_beta_livingtrust,SMB_beta_meyer],\n",
    "                           'Alpha':[alpha_airtelafri,alpha_presco,alpha_okomuoil,alpha_ucap,alpha_fidelity,alpha_livingtrust,\n",
    "                                   alpha_meyer]},\n",
    "                          index=['AIRTELAFRI','PRESCO','OKOMUOIL','UCAP','FIDELITYBK','LIVINGTRUST','MEYER'])"
   ]
  },
  {
   "cell_type": "code",
   "execution_count": 26,
   "id": "57e99326",
   "metadata": {},
   "outputs": [
    {
     "data": {
      "text/html": [
       "<div>\n",
       "<style scoped>\n",
       "    .dataframe tbody tr th:only-of-type {\n",
       "        vertical-align: middle;\n",
       "    }\n",
       "\n",
       "    .dataframe tbody tr th {\n",
       "        vertical-align: top;\n",
       "    }\n",
       "\n",
       "    .dataframe thead th {\n",
       "        text-align: right;\n",
       "    }\n",
       "</style>\n",
       "<table border=\"1\" class=\"dataframe\">\n",
       "  <thead>\n",
       "    <tr style=\"text-align: right;\">\n",
       "      <th></th>\n",
       "      <th>TrainingPeriod_Returns</th>\n",
       "      <th>HML_beta</th>\n",
       "      <th>SMB_beta</th>\n",
       "      <th>Alpha</th>\n",
       "    </tr>\n",
       "  </thead>\n",
       "  <tbody>\n",
       "    <tr>\n",
       "      <th>AIRTELAFRI</th>\n",
       "      <td>0.039750</td>\n",
       "      <td>-0.006054</td>\n",
       "      <td>0.597555</td>\n",
       "      <td>-0.019975</td>\n",
       "    </tr>\n",
       "    <tr>\n",
       "      <th>PRESCO</th>\n",
       "      <td>0.046713</td>\n",
       "      <td>-0.776421</td>\n",
       "      <td>-1.439758</td>\n",
       "      <td>0.111554</td>\n",
       "    </tr>\n",
       "    <tr>\n",
       "      <th>OKOMUOIL</th>\n",
       "      <td>0.040347</td>\n",
       "      <td>-0.761170</td>\n",
       "      <td>-0.074634</td>\n",
       "      <td>0.142154</td>\n",
       "    </tr>\n",
       "    <tr>\n",
       "      <th>UCAP</th>\n",
       "      <td>0.032302</td>\n",
       "      <td>1.014637</td>\n",
       "      <td>0.030741</td>\n",
       "      <td>-0.015083</td>\n",
       "    </tr>\n",
       "    <tr>\n",
       "      <th>FIDELITYBK</th>\n",
       "      <td>0.027751</td>\n",
       "      <td>-0.078922</td>\n",
       "      <td>0.322346</td>\n",
       "      <td>-0.064655</td>\n",
       "    </tr>\n",
       "    <tr>\n",
       "      <th>LIVINGTRUST</th>\n",
       "      <td>0.034710</td>\n",
       "      <td>-0.361392</td>\n",
       "      <td>-0.021867</td>\n",
       "      <td>-0.146503</td>\n",
       "    </tr>\n",
       "    <tr>\n",
       "      <th>MEYER</th>\n",
       "      <td>0.124437</td>\n",
       "      <td>0.914088</td>\n",
       "      <td>1.209016</td>\n",
       "      <td>0.628121</td>\n",
       "    </tr>\n",
       "  </tbody>\n",
       "</table>\n",
       "</div>"
      ],
      "text/plain": [
       "             TrainingPeriod_Returns  HML_beta  SMB_beta     Alpha\n",
       "AIRTELAFRI                 0.039750 -0.006054  0.597555 -0.019975\n",
       "PRESCO                     0.046713 -0.776421 -1.439758  0.111554\n",
       "OKOMUOIL                   0.040347 -0.761170 -0.074634  0.142154\n",
       "UCAP                       0.032302  1.014637  0.030741 -0.015083\n",
       "FIDELITYBK                 0.027751 -0.078922  0.322346 -0.064655\n",
       "LIVINGTRUST                0.034710 -0.361392 -0.021867 -0.146503\n",
       "MEYER                      0.124437  0.914088  1.209016  0.628121"
      ]
     },
     "execution_count": 26,
     "metadata": {},
     "output_type": "execute_result"
    }
   ],
   "source": [
    "train_returns"
   ]
  },
  {
   "cell_type": "markdown",
   "id": "8110c54c",
   "metadata": {},
   "source": [
    "## TEST PERIOD"
   ]
  },
  {
   "cell_type": "code",
   "execution_count": 27,
   "id": "a519f8cf",
   "metadata": {},
   "outputs": [],
   "source": [
    "#daily discrete stock returns\n",
    "returns_test=test.pct_change().dropna(how='all')\n",
    "\n",
    "data_test=famafrenchdata_test.merge(returns_test,on='datetime')"
   ]
  },
  {
   "cell_type": "code",
   "execution_count": 28,
   "id": "17ea3daf",
   "metadata": {},
   "outputs": [],
   "source": [
    "#get the excess return \n",
    "data_test['ASI_Excess']=data_test['ASI']-data_test['Rf']\n",
    "data_test['FIDELITYBK_Excess']=data_test['FIDELITYBK']-data_test['Rf']\n",
    "data_test['PRESCO_Excess']=data_test['PRESCO']-data_test['Rf']\n",
    "data_test['OKOMUOIL_Excess']=data_test['OKOMUOIL']-data_test['Rf']\n",
    "data_test['UCAP_Excess']=data_test['UCAP']-data_test['Rf']\n",
    "data_test['LIVINGTRUST_Excess']=data_test['LIVINGTRUST']-data_test['Rf']\n",
    "data_test['MEYER_Excess']=data_test['MEYER']-data_test['Rf']\n",
    "data_test['AIRTELAFRI_Excess']=data_test['AIRTELAFRI']-data_test['Rf']"
   ]
  },
  {
   "cell_type": "code",
   "execution_count": 29,
   "id": "ae30313a",
   "metadata": {},
   "outputs": [
    {
     "name": "stdout",
     "output_type": "stream",
     "text": [
      "-2.5471858639155154 0.0019310961508319621 0.006437951149481576\n"
     ]
    }
   ],
   "source": [
    "#next, take the average of this values to confirm if they are premiums\n",
    "market_premium=famafrenchdata_test['Mkt-Rf'].mean()\n",
    "size_premium=famafrenchdata_test['SMB'].mean()\n",
    "value_premium=famafrenchdata_test['HML'].mean()\n",
    "print(market_premium,size_premium,value_premium)\n",
    "\n",
    "risk_free_rate=data_test['Rf'].mean()"
   ]
  },
  {
   "cell_type": "code",
   "execution_count": 30,
   "id": "2b02d5ba",
   "metadata": {},
   "outputs": [],
   "source": [
    "#EXPECTED RETURNS\n",
    "airtelafri_return=risk_free_rate + (beta_market_airtelafri*market_premium) + (SMB_beta_airtelafri*size_premium) + (HML_beta_airtelafri*value_premium) + alpha_airtelafri\n",
    "\n",
    "presco_return=risk_free_rate + (beta_market_presco*market_premium) + (SMB_beta_presco*size_premium) + (HML_beta_presco*value_premium) + alpha_presco\n",
    "\n",
    "okomuoil_return=risk_free_rate + (beta_market_okomuoil*market_premium) + (SMB_beta_okomuoil*size_premium) + (HML_beta_okomuoil*value_premium) + alpha_okomuoil\n",
    "\n",
    "ucap_return=risk_free_rate + (beta_market_ucap*market_premium) + (SMB_beta_ucap*size_premium) + (HML_beta_ucap*value_premium) + alpha_ucap\n",
    "\n",
    "fidelitybk_return=risk_free_rate + (beta_market_fidelitybk*market_premium) + (SMB_beta_fidelity*size_premium) + (HML_beta_fidelity*value_premium) + alpha_fidelity\n",
    "\n",
    "livingtrust_return=risk_free_rate + (beta_market_livingtrust*market_premium) + (SMB_beta_livingtrust*size_premium) + (HML_beta_livingtrust*value_premium) + alpha_livingtrust\n",
    "\n",
    "meyer_return=risk_free_rate + (beta_market_meyer*market_premium) + (SMB_beta_meyer*size_premium) + (HML_beta_meyer*value_premium) + alpha_meyer\n",
    "\n",
    "                "
   ]
  },
  {
   "cell_type": "code",
   "execution_count": 31,
   "id": "d9345f1a",
   "metadata": {},
   "outputs": [],
   "source": [
    "test_returns=pd.DataFrame({'TestingPeriod_Returns':[airtelafri_return,presco_return,okomuoil_return,ucap_return,\n",
    "                                                    fidelitybk_return,livingtrust_return,meyer_return],\n",
    "                           'HML_beta':[HML_beta_airtelafri,HML_beta_presco,HML_beta_okomuoil,HML_beta_ucap,HML_beta_fidelity,\n",
    "                                       HML_beta_livingtrust,HML_beta_meyer],\n",
    "                           'SMB_beta':[SMB_beta_airtelafri,SMB_beta_presco,SMB_beta_okomuoil,SMB_beta_ucap,SMB_beta_fidelity,\n",
    "                                       SMB_beta_livingtrust,SMB_beta_meyer],\n",
    "                           'Alpha':[alpha_airtelafri,alpha_presco,alpha_okomuoil,alpha_ucap,alpha_fidelity,alpha_livingtrust,\n",
    "                                   alpha_meyer]},\n",
    "                          index=['AIRTELAFRI','PRESCO','OKOMUOIL','UCAP','FIDELITYBK','LIVINGTRUST','MEYER'])"
   ]
  },
  {
   "cell_type": "code",
   "execution_count": 32,
   "id": "7461ca08",
   "metadata": {},
   "outputs": [
    {
     "data": {
      "text/html": [
       "<div>\n",
       "<style scoped>\n",
       "    .dataframe tbody tr th:only-of-type {\n",
       "        vertical-align: middle;\n",
       "    }\n",
       "\n",
       "    .dataframe tbody tr th {\n",
       "        vertical-align: top;\n",
       "    }\n",
       "\n",
       "    .dataframe thead th {\n",
       "        text-align: right;\n",
       "    }\n",
       "</style>\n",
       "<table border=\"1\" class=\"dataframe\">\n",
       "  <thead>\n",
       "    <tr style=\"text-align: right;\">\n",
       "      <th></th>\n",
       "      <th>TestingPeriod_Returns</th>\n",
       "      <th>HML_beta</th>\n",
       "      <th>SMB_beta</th>\n",
       "      <th>Alpha</th>\n",
       "    </tr>\n",
       "  </thead>\n",
       "  <tbody>\n",
       "    <tr>\n",
       "      <th>AIRTELAFRI</th>\n",
       "      <td>0.007661</td>\n",
       "      <td>-0.006054</td>\n",
       "      <td>0.597555</td>\n",
       "      <td>-0.019975</td>\n",
       "    </tr>\n",
       "    <tr>\n",
       "      <th>PRESCO</th>\n",
       "      <td>0.003057</td>\n",
       "      <td>-0.776421</td>\n",
       "      <td>-1.439758</td>\n",
       "      <td>0.111554</td>\n",
       "    </tr>\n",
       "    <tr>\n",
       "      <th>OKOMUOIL</th>\n",
       "      <td>-0.012948</td>\n",
       "      <td>-0.761170</td>\n",
       "      <td>-0.074634</td>\n",
       "      <td>0.142154</td>\n",
       "    </tr>\n",
       "    <tr>\n",
       "      <th>UCAP</th>\n",
       "      <td>0.010937</td>\n",
       "      <td>1.014637</td>\n",
       "      <td>0.030741</td>\n",
       "      <td>-0.015083</td>\n",
       "    </tr>\n",
       "    <tr>\n",
       "      <th>FIDELITYBK</th>\n",
       "      <td>-0.000392</td>\n",
       "      <td>-0.078922</td>\n",
       "      <td>0.322346</td>\n",
       "      <td>-0.064655</td>\n",
       "    </tr>\n",
       "    <tr>\n",
       "      <th>LIVINGTRUST</th>\n",
       "      <td>0.014757</td>\n",
       "      <td>-0.361392</td>\n",
       "      <td>-0.021867</td>\n",
       "      <td>-0.146503</td>\n",
       "    </tr>\n",
       "    <tr>\n",
       "      <th>MEYER</th>\n",
       "      <td>0.038988</td>\n",
       "      <td>0.914088</td>\n",
       "      <td>1.209016</td>\n",
       "      <td>0.628121</td>\n",
       "    </tr>\n",
       "  </tbody>\n",
       "</table>\n",
       "</div>"
      ],
      "text/plain": [
       "             TestingPeriod_Returns  HML_beta  SMB_beta     Alpha\n",
       "AIRTELAFRI                0.007661 -0.006054  0.597555 -0.019975\n",
       "PRESCO                    0.003057 -0.776421 -1.439758  0.111554\n",
       "OKOMUOIL                 -0.012948 -0.761170 -0.074634  0.142154\n",
       "UCAP                      0.010937  1.014637  0.030741 -0.015083\n",
       "FIDELITYBK               -0.000392 -0.078922  0.322346 -0.064655\n",
       "LIVINGTRUST               0.014757 -0.361392 -0.021867 -0.146503\n",
       "MEYER                     0.038988  0.914088  1.209016  0.628121"
      ]
     },
     "execution_count": 32,
     "metadata": {},
     "output_type": "execute_result"
    }
   ],
   "source": [
    "test_returns"
   ]
  },
  {
   "cell_type": "markdown",
   "id": "7ada8ae4",
   "metadata": {},
   "source": [
    "## Actual returns"
   ]
  },
  {
   "cell_type": "code",
   "execution_count": 33,
   "id": "16a2d6ad",
   "metadata": {},
   "outputs": [],
   "source": [
    "final_returns=pd.concat([train_returns['TrainingPeriod_Returns'],test_returns['TestingPeriod_Returns']],axis=1)"
   ]
  },
  {
   "cell_type": "code",
   "execution_count": 34,
   "id": "7f67af22",
   "metadata": {},
   "outputs": [],
   "source": [
    "actual_returns = test.pct_change().dropna(how='all')"
   ]
  },
  {
   "cell_type": "code",
   "execution_count": 35,
   "id": "eec28d99",
   "metadata": {},
   "outputs": [],
   "source": [
    "final_returns['actual_returns'] = actual_returns.mean()"
   ]
  },
  {
   "cell_type": "code",
   "execution_count": 36,
   "id": "94b4668c",
   "metadata": {},
   "outputs": [
    {
     "data": {
      "text/html": [
       "<div>\n",
       "<style scoped>\n",
       "    .dataframe tbody tr th:only-of-type {\n",
       "        vertical-align: middle;\n",
       "    }\n",
       "\n",
       "    .dataframe tbody tr th {\n",
       "        vertical-align: top;\n",
       "    }\n",
       "\n",
       "    .dataframe thead th {\n",
       "        text-align: right;\n",
       "    }\n",
       "</style>\n",
       "<table border=\"1\" class=\"dataframe\">\n",
       "  <thead>\n",
       "    <tr style=\"text-align: right;\">\n",
       "      <th></th>\n",
       "      <th>TrainingPeriod_Returns</th>\n",
       "      <th>TestingPeriod_Returns</th>\n",
       "      <th>actual_returns</th>\n",
       "    </tr>\n",
       "  </thead>\n",
       "  <tbody>\n",
       "    <tr>\n",
       "      <th>AIRTELAFRI</th>\n",
       "      <td>0.039750</td>\n",
       "      <td>0.007661</td>\n",
       "      <td>0.011603</td>\n",
       "    </tr>\n",
       "    <tr>\n",
       "      <th>PRESCO</th>\n",
       "      <td>0.046713</td>\n",
       "      <td>0.003057</td>\n",
       "      <td>-0.016993</td>\n",
       "    </tr>\n",
       "    <tr>\n",
       "      <th>OKOMUOIL</th>\n",
       "      <td>0.040347</td>\n",
       "      <td>-0.012948</td>\n",
       "      <td>-0.008807</td>\n",
       "    </tr>\n",
       "    <tr>\n",
       "      <th>UCAP</th>\n",
       "      <td>0.032302</td>\n",
       "      <td>0.010937</td>\n",
       "      <td>-0.004064</td>\n",
       "    </tr>\n",
       "    <tr>\n",
       "      <th>FIDELITYBK</th>\n",
       "      <td>0.027751</td>\n",
       "      <td>-0.000392</td>\n",
       "      <td>-0.007773</td>\n",
       "    </tr>\n",
       "    <tr>\n",
       "      <th>LIVINGTRUST</th>\n",
       "      <td>0.034710</td>\n",
       "      <td>0.014757</td>\n",
       "      <td>0.018517</td>\n",
       "    </tr>\n",
       "    <tr>\n",
       "      <th>MEYER</th>\n",
       "      <td>0.124437</td>\n",
       "      <td>0.038988</td>\n",
       "      <td>-0.022768</td>\n",
       "    </tr>\n",
       "  </tbody>\n",
       "</table>\n",
       "</div>"
      ],
      "text/plain": [
       "             TrainingPeriod_Returns  TestingPeriod_Returns  actual_returns\n",
       "AIRTELAFRI                 0.039750               0.007661        0.011603\n",
       "PRESCO                     0.046713               0.003057       -0.016993\n",
       "OKOMUOIL                   0.040347              -0.012948       -0.008807\n",
       "UCAP                       0.032302               0.010937       -0.004064\n",
       "FIDELITYBK                 0.027751              -0.000392       -0.007773\n",
       "LIVINGTRUST                0.034710               0.014757        0.018517\n",
       "MEYER                      0.124437               0.038988       -0.022768"
      ]
     },
     "execution_count": 36,
     "metadata": {},
     "output_type": "execute_result"
    }
   ],
   "source": [
    "final_returns"
   ]
  },
  {
   "cell_type": "code",
   "execution_count": null,
   "id": "71d10a90",
   "metadata": {},
   "outputs": [],
   "source": []
  },
  {
   "cell_type": "code",
   "execution_count": null,
   "id": "60c72e42",
   "metadata": {},
   "outputs": [],
   "source": []
  },
  {
   "cell_type": "code",
   "execution_count": null,
   "id": "59bf09b8",
   "metadata": {},
   "outputs": [],
   "source": []
  },
  {
   "cell_type": "code",
   "execution_count": null,
   "id": "7df8f378",
   "metadata": {},
   "outputs": [],
   "source": []
  },
  {
   "cell_type": "code",
   "execution_count": null,
   "id": "4167de0b",
   "metadata": {},
   "outputs": [],
   "source": []
  },
  {
   "cell_type": "code",
   "execution_count": null,
   "id": "f2707b96",
   "metadata": {},
   "outputs": [],
   "source": []
  },
  {
   "cell_type": "code",
   "execution_count": null,
   "id": "8007d5a6",
   "metadata": {},
   "outputs": [],
   "source": []
  },
  {
   "cell_type": "code",
   "execution_count": null,
   "id": "3c8da9ab",
   "metadata": {},
   "outputs": [],
   "source": []
  },
  {
   "cell_type": "code",
   "execution_count": null,
   "id": "678deaaf",
   "metadata": {},
   "outputs": [],
   "source": []
  },
  {
   "cell_type": "code",
   "execution_count": null,
   "id": "9f6bf48c",
   "metadata": {},
   "outputs": [],
   "source": []
  },
  {
   "cell_type": "code",
   "execution_count": null,
   "id": "7cfd83af",
   "metadata": {},
   "outputs": [],
   "source": []
  },
  {
   "cell_type": "code",
   "execution_count": null,
   "id": "1f7c07b7",
   "metadata": {},
   "outputs": [],
   "source": []
  },
  {
   "cell_type": "code",
   "execution_count": null,
   "id": "af2b2393",
   "metadata": {},
   "outputs": [],
   "source": []
  },
  {
   "cell_type": "code",
   "execution_count": null,
   "id": "068776e1",
   "metadata": {},
   "outputs": [],
   "source": []
  },
  {
   "cell_type": "code",
   "execution_count": null,
   "id": "0aa97a70",
   "metadata": {},
   "outputs": [],
   "source": []
  },
  {
   "cell_type": "code",
   "execution_count": null,
   "id": "902b4024",
   "metadata": {},
   "outputs": [],
   "source": []
  },
  {
   "cell_type": "code",
   "execution_count": null,
   "id": "d946bebe",
   "metadata": {},
   "outputs": [],
   "source": []
  },
  {
   "cell_type": "code",
   "execution_count": null,
   "id": "dc924ee5",
   "metadata": {},
   "outputs": [],
   "source": []
  },
  {
   "cell_type": "code",
   "execution_count": null,
   "id": "99a894e4",
   "metadata": {},
   "outputs": [],
   "source": []
  },
  {
   "cell_type": "code",
   "execution_count": null,
   "id": "d37d20a0",
   "metadata": {},
   "outputs": [],
   "source": []
  }
 ],
 "metadata": {
  "kernelspec": {
   "display_name": "Python 3",
   "language": "python",
   "name": "python3"
  },
  "language_info": {
   "codemirror_mode": {
    "name": "ipython",
    "version": 3
   },
   "file_extension": ".py",
   "mimetype": "text/x-python",
   "name": "python",
   "nbconvert_exporter": "python",
   "pygments_lexer": "ipython3",
   "version": "3.8.8"
  }
 },
 "nbformat": 4,
 "nbformat_minor": 5
}
